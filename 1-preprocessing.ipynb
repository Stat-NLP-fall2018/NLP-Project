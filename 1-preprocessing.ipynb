import bz2
import json
import os
import pandas as pd
import sys


def ustr(ucode, idx=[]):
    if ucode is None: return None
    chars = [ch.encode('unicode_escape') for ch in ucode]
    for i,j in sorted(idx, reverse=True):
        del chars[i:j]
    return ''.join(chars)


emoji_file = "/Users/divishajaiswal/Desktop/nlp_project/emoji.txt"
walk = [(dp,fn) for (dp,dn,fn) in os.walk("/Users/divishajaiswal/Desktop/nlp_project/12") if len(fn)]
start = 0
end = 1

with open(emoji_file, 'rb') as f:
    emojis = [line.strip() for line in f]

with pd.HDFStore('/Users/divishajaiswal/Desktop/nlp_project/tweets.h5', mode='w') as store:
    #store.put('text', pd.DataFrame(), 'table')
    #store.put('meta', pd.DataFrame(), 'table')

    count = 0
    for dirpath, filenames in walk:
        print("dirpath", dirpath)
        for fn in filenames:
            print("fn", fn)
            if os.path.splitext(fn)[1] != '.bz2': continue
            tweets = []
            metadata = []
            
            with bz2.BZ2File(os.path.join(dirpath, fn)) as f:
                for line in f:
                    tweet = json.loads(line)
                    if 'text' not in tweet: continue
                    entities = tweet['entities']['urls'] + tweet['entities']['user_mentions']
                    text = ustr(tweet['text'], [e['indices'] for e in entities])
                    
                    if any(emoji in text for emoji in emojis):
                        if 'id' in tweet and 'lang' in tweet['user'] and 'location' in tweet['user']:
                            metadata.append({'id': tweet['id'],
                                     'lang': str(tweet['user']['lang']),
                                     'location': ustr(tweet['user']['location'], [[40,None]])})
                            tweets.append(text)
            
            count += len(tweets)
            
            store.append('text', pd.DataFrame(tweets), min_itemsize={'values': 2000})
            store.append('meta', pd.DataFrame(metadata), min_itemsize={'location': 250, 'lang': 250, 'id': 250})        
        print count
